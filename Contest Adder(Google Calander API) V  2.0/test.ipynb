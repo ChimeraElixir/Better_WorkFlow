{
 "cells": [
  {
   "cell_type": "code",
   "execution_count": 1,
   "metadata": {},
   "outputs": [],
   "source": [
    "import pandas as pd\n",
    "import numpy as np\n",
    "from datetime import datetime,timedelta"
   ]
  },
  {
   "cell_type": "code",
   "execution_count": 3,
   "metadata": {},
   "outputs": [],
   "source": [
    "df=pd.read_excel(\"CodeforceCalander.xlsx\")\n",
    "Summary=df['Name']\n",
    "DateTime=df['Start']\n",
    "hour= df['Length'].dt.hour\n",
    "minute=df['Length'].dt.minute"
   ]
  },
  {
   "cell_type": "code",
   "execution_count": 19,
   "metadata": {},
   "outputs": [
    {
     "data": {
      "text/html": [
       "<div>\n",
       "<style scoped>\n",
       "    .dataframe tbody tr th:only-of-type {\n",
       "        vertical-align: middle;\n",
       "    }\n",
       "\n",
       "    .dataframe tbody tr th {\n",
       "        vertical-align: top;\n",
       "    }\n",
       "\n",
       "    .dataframe thead th {\n",
       "        text-align: right;\n",
       "    }\n",
       "</style>\n",
       "<table border=\"1\" class=\"dataframe\">\n",
       "  <thead>\n",
       "    <tr style=\"text-align: right;\">\n",
       "      <th></th>\n",
       "      <th>Name</th>\n",
       "      <th>Start</th>\n",
       "      <th>Length</th>\n",
       "    </tr>\n",
       "  </thead>\n",
       "  <tbody>\n",
       "    <tr>\n",
       "      <th>0</th>\n",
       "      <td>Codeforces Round 904 (Div. 2)</td>\n",
       "      <td>Oct/22/2023 12:35</td>\n",
       "      <td>1900-01-04 02:00:00</td>\n",
       "    </tr>\n",
       "    <tr>\n",
       "      <th>1</th>\n",
       "      <td>Codeforces Round 905 (Div. 1)</td>\n",
       "      <td>Oct/22/2023 16:35</td>\n",
       "      <td>1900-01-04 02:00:00</td>\n",
       "    </tr>\n",
       "    <tr>\n",
       "      <th>2</th>\n",
       "      <td>Codeforces Round 905 (Div. 2)</td>\n",
       "      <td>Oct/22/2023 16:35</td>\n",
       "      <td>1900-01-04 02:00:00</td>\n",
       "    </tr>\n",
       "    <tr>\n",
       "      <th>3</th>\n",
       "      <td>Codeforces Round 905 (Div. 3)</td>\n",
       "      <td>Oct/22/2023 16:35</td>\n",
       "      <td>1900-01-04 02:00:00</td>\n",
       "    </tr>\n",
       "    <tr>\n",
       "      <th>4</th>\n",
       "      <td>Codeforces Round (Div. 1)</td>\n",
       "      <td>Oct/28/2023 20:05</td>\n",
       "      <td>1900-01-04 02:30:00</td>\n",
       "    </tr>\n",
       "    <tr>\n",
       "      <th>5</th>\n",
       "      <td>Codeforces Round (Div. 2)</td>\n",
       "      <td>Oct/28/2023 20:05</td>\n",
       "      <td>1900-01-04 02:30:00</td>\n",
       "    </tr>\n",
       "    <tr>\n",
       "      <th>6</th>\n",
       "      <td>Codeforces Round (Div. 2)</td>\n",
       "      <td>Oct/30/2023 20:05</td>\n",
       "      <td>1900-01-04 02:00:00</td>\n",
       "    </tr>\n",
       "    <tr>\n",
       "      <th>7</th>\n",
       "      <td>Codeforces Round (Div. 1)</td>\n",
       "      <td>Nov/07/2023 20:05</td>\n",
       "      <td>1900-01-04 02:00:00</td>\n",
       "    </tr>\n",
       "    <tr>\n",
       "      <th>8</th>\n",
       "      <td>Codeforces Round (Div. 2)</td>\n",
       "      <td>Nov/07/2023 20:05</td>\n",
       "      <td>1900-01-04 02:00:00</td>\n",
       "    </tr>\n",
       "    <tr>\n",
       "      <th>9</th>\n",
       "      <td>2023 ICPC Post-world Finals</td>\n",
       "      <td>Nov/20/2023 12:30</td>\n",
       "      <td>1900-01-04 14:00:00</td>\n",
       "    </tr>\n",
       "  </tbody>\n",
       "</table>\n",
       "</div>"
      ],
      "text/plain": [
       "                            Name              Start              Length\n",
       "0  Codeforces Round 904 (Div. 2)  Oct/22/2023 12:35 1900-01-04 02:00:00\n",
       "1  Codeforces Round 905 (Div. 1)  Oct/22/2023 16:35 1900-01-04 02:00:00\n",
       "2  Codeforces Round 905 (Div. 2)  Oct/22/2023 16:35 1900-01-04 02:00:00\n",
       "3  Codeforces Round 905 (Div. 3)  Oct/22/2023 16:35 1900-01-04 02:00:00\n",
       "4      Codeforces Round (Div. 1)  Oct/28/2023 20:05 1900-01-04 02:30:00\n",
       "5      Codeforces Round (Div. 2)  Oct/28/2023 20:05 1900-01-04 02:30:00\n",
       "6      Codeforces Round (Div. 2)  Oct/30/2023 20:05 1900-01-04 02:00:00\n",
       "7      Codeforces Round (Div. 1)  Nov/07/2023 20:05 1900-01-04 02:00:00\n",
       "8      Codeforces Round (Div. 2)  Nov/07/2023 20:05 1900-01-04 02:00:00\n",
       "9    2023 ICPC Post-world Finals  Nov/20/2023 12:30 1900-01-04 14:00:00"
      ]
     },
     "execution_count": 19,
     "metadata": {},
     "output_type": "execute_result"
    }
   ],
   "source": [
    "df"
   ]
  },
  {
   "cell_type": "code",
   "execution_count": 7,
   "metadata": {},
   "outputs": [
    {
     "data": {
      "text/plain": [
       "'Codeforces Round 905 (Div. 2)'"
      ]
     },
     "execution_count": 7,
     "metadata": {},
     "output_type": "execute_result"
    }
   ],
   "source": [
    "str(Summary[2])"
   ]
  },
  {
   "cell_type": "code",
   "execution_count": 8,
   "metadata": {},
   "outputs": [
    {
     "data": {
      "text/plain": [
       "0    Oct/22/2023 12:35\n",
       "1    Oct/22/2023 16:35\n",
       "2    Oct/22/2023 16:35\n",
       "3    Oct/22/2023 16:35\n",
       "4    Oct/28/2023 20:05\n",
       "5    Oct/28/2023 20:05\n",
       "6    Oct/30/2023 20:05\n",
       "7    Nov/07/2023 20:05\n",
       "8    Nov/07/2023 20:05\n",
       "9    Nov/20/2023 12:30\n",
       "Name: Start, dtype: object"
      ]
     },
     "execution_count": 8,
     "metadata": {},
     "output_type": "execute_result"
    }
   ],
   "source": [
    "DateTime"
   ]
  },
  {
   "cell_type": "code",
   "execution_count": 9,
   "metadata": {},
   "outputs": [
    {
     "data": {
      "text/plain": [
       "0     2\n",
       "1     2\n",
       "2     2\n",
       "3     2\n",
       "4     2\n",
       "5     2\n",
       "6     2\n",
       "7     2\n",
       "8     2\n",
       "9    14\n",
       "Name: Length, dtype: int32"
      ]
     },
     "execution_count": 9,
     "metadata": {},
     "output_type": "execute_result"
    }
   ],
   "source": [
    "hour"
   ]
  },
  {
   "cell_type": "code",
   "execution_count": 10,
   "metadata": {},
   "outputs": [
    {
     "data": {
      "text/plain": [
       "0     0\n",
       "1     0\n",
       "2     0\n",
       "3     0\n",
       "4    30\n",
       "5    30\n",
       "6     0\n",
       "7     0\n",
       "8     0\n",
       "9     0\n",
       "Name: Length, dtype: int32"
      ]
     },
     "execution_count": 10,
     "metadata": {},
     "output_type": "execute_result"
    }
   ],
   "source": [
    "minute"
   ]
  },
  {
   "cell_type": "code",
   "execution_count": 12,
   "metadata": {},
   "outputs": [
    {
     "name": "stdout",
     "output_type": "stream",
     "text": [
      "2023-10-22 12:35:00\n",
      "2023-10-22 16:35:00\n",
      "2023-10-22 16:35:00\n",
      "2023-10-22 16:35:00\n",
      "2023-10-28 20:05:00\n",
      "2023-10-28 20:05:00\n",
      "2023-10-30 20:05:00\n",
      "2023-11-07 20:05:00\n",
      "2023-11-07 20:05:00\n",
      "2023-11-20 12:30:00\n"
     ]
    }
   ],
   "source": [
    "for i in range(df.shape[0]):    \n",
    "    start_time=datetime.strptime(DateTime[i],'%b/%d/%Y %H:%M')\n",
    "    print(start_time)"
   ]
  },
  {
   "cell_type": "code",
   "execution_count": 18,
   "metadata": {},
   "outputs": [
    {
     "name": "stdout",
     "output_type": "stream",
     "text": [
      "2023-10-22 12:35:00\n",
      "2023-10-22 14:35:00\n",
      "{'summary': 'Codeforces Round 904 (Div. 2)', 'location': 'Delhi', 'description': 'Codeforces Round 904 (Div. 2)', 'start': {'dateTime': '2023-10-22T12:35:00+5:30', 'timeZone': 'Asia/Kolkata'}, 'end': {'dateTime': '2023-10-22T14:35:00+5:30', 'timeZone': 'Asia/Kolkata'}, 'attendees': [{'email': 'gaurav94266@gmail.com'}], 'reminders': {'useDefault': False, 'overrides': [{'method': 'email', 'minutes': 1440}, {'method': 'popup', 'minutes': 30}]}}\n",
      "\n",
      "2023-10-22 16:35:00\n",
      "2023-10-22 18:35:00\n",
      "{'summary': 'Codeforces Round 905 (Div. 1)', 'location': 'Delhi', 'description': 'Codeforces Round 905 (Div. 1)', 'start': {'dateTime': '2023-10-22T16:35:00+5:30', 'timeZone': 'Asia/Kolkata'}, 'end': {'dateTime': '2023-10-22T18:35:00+5:30', 'timeZone': 'Asia/Kolkata'}, 'attendees': [{'email': 'gaurav94266@gmail.com'}], 'reminders': {'useDefault': False, 'overrides': [{'method': 'email', 'minutes': 1440}, {'method': 'popup', 'minutes': 30}]}}\n",
      "\n",
      "2023-10-22 16:35:00\n",
      "2023-10-22 18:35:00\n",
      "{'summary': 'Codeforces Round 905 (Div. 2)', 'location': 'Delhi', 'description': 'Codeforces Round 905 (Div. 2)', 'start': {'dateTime': '2023-10-22T16:35:00+5:30', 'timeZone': 'Asia/Kolkata'}, 'end': {'dateTime': '2023-10-22T18:35:00+5:30', 'timeZone': 'Asia/Kolkata'}, 'attendees': [{'email': 'gaurav94266@gmail.com'}], 'reminders': {'useDefault': False, 'overrides': [{'method': 'email', 'minutes': 1440}, {'method': 'popup', 'minutes': 30}]}}\n",
      "\n",
      "2023-10-22 16:35:00\n",
      "2023-10-22 18:35:00\n",
      "{'summary': 'Codeforces Round 905 (Div. 3)', 'location': 'Delhi', 'description': 'Codeforces Round 905 (Div. 3)', 'start': {'dateTime': '2023-10-22T16:35:00+5:30', 'timeZone': 'Asia/Kolkata'}, 'end': {'dateTime': '2023-10-22T18:35:00+5:30', 'timeZone': 'Asia/Kolkata'}, 'attendees': [{'email': 'gaurav94266@gmail.com'}], 'reminders': {'useDefault': False, 'overrides': [{'method': 'email', 'minutes': 1440}, {'method': 'popup', 'minutes': 30}]}}\n",
      "\n",
      "2023-10-28 20:05:00\n",
      "2023-10-28 22:35:00\n",
      "{'summary': 'Codeforces Round (Div. 1)', 'location': 'Delhi', 'description': 'Codeforces Round (Div. 1)', 'start': {'dateTime': '2023-10-28T20:05:00+5:30', 'timeZone': 'Asia/Kolkata'}, 'end': {'dateTime': '2023-10-28T22:35:00+5:30', 'timeZone': 'Asia/Kolkata'}, 'attendees': [{'email': 'gaurav94266@gmail.com'}], 'reminders': {'useDefault': False, 'overrides': [{'method': 'email', 'minutes': 1440}, {'method': 'popup', 'minutes': 30}]}}\n",
      "\n",
      "2023-10-28 20:05:00\n",
      "2023-10-28 22:35:00\n",
      "{'summary': 'Codeforces Round (Div. 2)', 'location': 'Delhi', 'description': 'Codeforces Round (Div. 2)', 'start': {'dateTime': '2023-10-28T20:05:00+5:30', 'timeZone': 'Asia/Kolkata'}, 'end': {'dateTime': '2023-10-28T22:35:00+5:30', 'timeZone': 'Asia/Kolkata'}, 'attendees': [{'email': 'gaurav94266@gmail.com'}], 'reminders': {'useDefault': False, 'overrides': [{'method': 'email', 'minutes': 1440}, {'method': 'popup', 'minutes': 30}]}}\n",
      "\n",
      "2023-10-30 20:05:00\n",
      "2023-10-30 22:05:00\n",
      "{'summary': 'Codeforces Round (Div. 2)', 'location': 'Delhi', 'description': 'Codeforces Round (Div. 2)', 'start': {'dateTime': '2023-10-30T20:05:00+5:30', 'timeZone': 'Asia/Kolkata'}, 'end': {'dateTime': '2023-10-30T22:05:00+5:30', 'timeZone': 'Asia/Kolkata'}, 'attendees': [{'email': 'gaurav94266@gmail.com'}], 'reminders': {'useDefault': False, 'overrides': [{'method': 'email', 'minutes': 1440}, {'method': 'popup', 'minutes': 30}]}}\n",
      "\n",
      "2023-11-07 20:05:00\n",
      "2023-11-07 22:05:00\n",
      "{'summary': 'Codeforces Round (Div. 1)', 'location': 'Delhi', 'description': 'Codeforces Round (Div. 1)', 'start': {'dateTime': '2023-11-07T20:05:00+5:30', 'timeZone': 'Asia/Kolkata'}, 'end': {'dateTime': '2023-11-07T22:05:00+5:30', 'timeZone': 'Asia/Kolkata'}, 'attendees': [{'email': 'gaurav94266@gmail.com'}], 'reminders': {'useDefault': False, 'overrides': [{'method': 'email', 'minutes': 1440}, {'method': 'popup', 'minutes': 30}]}}\n",
      "\n",
      "2023-11-07 20:05:00\n",
      "2023-11-07 22:05:00\n",
      "{'summary': 'Codeforces Round (Div. 2)', 'location': 'Delhi', 'description': 'Codeforces Round (Div. 2)', 'start': {'dateTime': '2023-11-07T20:05:00+5:30', 'timeZone': 'Asia/Kolkata'}, 'end': {'dateTime': '2023-11-07T22:05:00+5:30', 'timeZone': 'Asia/Kolkata'}, 'attendees': [{'email': 'gaurav94266@gmail.com'}], 'reminders': {'useDefault': False, 'overrides': [{'method': 'email', 'minutes': 1440}, {'method': 'popup', 'minutes': 30}]}}\n",
      "\n",
      "2023-11-20 12:30:00\n",
      "2023-11-21 02:30:00\n",
      "{'summary': '2023 ICPC Post-world Finals', 'location': 'Delhi', 'description': '2023 ICPC Post-world Finals', 'start': {'dateTime': '2023-11-20T12:30:00+5:30', 'timeZone': 'Asia/Kolkata'}, 'end': {'dateTime': '2023-11-21T02:30:00+5:30', 'timeZone': 'Asia/Kolkata'}, 'attendees': [{'email': 'gaurav94266@gmail.com'}], 'reminders': {'useDefault': False, 'overrides': [{'method': 'email', 'minutes': 1440}, {'method': 'popup', 'minutes': 30}]}}\n",
      "\n"
     ]
    }
   ],
   "source": [
    "for i in range(df.shape[0]):    \n",
    "    start_time=datetime.strptime(DateTime[i],'%b/%d/%Y %H:%M')\n",
    "    end_time = start_time + timedelta(hours=int(hour[i]),minutes=int(minute[i]))\n",
    "    print(start_time)\n",
    "    print(end_time)\n",
    "    TimeZone='Asia/Kolkata'\n",
    "    event = {\n",
    "                'summary': str(Summary[i]),\n",
    "                'location': 'Delhi',\n",
    "                'description': str(Summary[i]),\n",
    "                'start': {\n",
    "                    'dateTime': start_time.strftime('%Y-%m-%dT%H:%M:%S'+'+5:30'),\n",
    "                    'timeZone': TimeZone,  # Corrected timezone name\n",
    "                },\n",
    "                'end': {\n",
    "                    'dateTime': end_time.strftime('%Y-%m-%dT%H:%M:%S'+'+5:30'),  # Corrected time format\n",
    "                    'timeZone': TimeZone,\n",
    "                },\n",
    "                \n",
    "                'attendees': [\n",
    "                    {'email': 'gaurav94266@gmail.com'},\n",
    "                ],\n",
    "                'reminders': {\n",
    "                    'useDefault': False,\n",
    "                    'overrides': [\n",
    "                        {'method': 'email', 'minutes': 24 * 60},\n",
    "                        {'method': 'popup', 'minutes': 30},\n",
    "                    ],\n",
    "                },\n",
    "            }\n",
    "    print(event)\n",
    "    print()"
   ]
  },
  {
   "cell_type": "code",
   "execution_count": null,
   "metadata": {},
   "outputs": [],
   "source": []
  }
 ],
 "metadata": {
  "kernelspec": {
   "display_name": "Machine",
   "language": "python",
   "name": "machine"
  },
  "language_info": {
   "codemirror_mode": {
    "name": "ipython",
    "version": 3
   },
   "file_extension": ".py",
   "mimetype": "text/x-python",
   "name": "python",
   "nbconvert_exporter": "python",
   "pygments_lexer": "ipython3",
   "version": "3.9.6"
  }
 },
 "nbformat": 4,
 "nbformat_minor": 2
}
